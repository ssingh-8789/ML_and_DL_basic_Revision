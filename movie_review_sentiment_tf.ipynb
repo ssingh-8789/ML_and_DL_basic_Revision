{
 "cells": [
  {
   "cell_type": "code",
   "execution_count": 7,
   "id": "d095dd49",
   "metadata": {},
   "outputs": [],
   "source": [
    "import tensorflow as tf\n",
    "import tensorflow_datasets as tfds\n",
    "import tensorflow_hub as hub"
   ]
  },
  {
   "cell_type": "code",
   "execution_count": 2,
   "id": "3355238d",
   "metadata": {},
   "outputs": [
    {
     "name": "stdout",
     "output_type": "stream",
     "text": [
      "\u001b[33mWARNING: Retrying (Retry(total=4, connect=None, read=None, redirect=None, status=None)) after connection broken by 'NewConnectionError('<urllib3.connection.VerifiedHTTPSConnection object at 0x7fcfa7392970>: Failed to establish a new connection: [Errno -3] Temporary failure in name resolution')': /simple/tensorflow/\u001b[0m\n",
      "\u001b[33mWARNING: Retrying (Retry(total=3, connect=None, read=None, redirect=None, status=None)) after connection broken by 'NewConnectionError('<urllib3.connection.VerifiedHTTPSConnection object at 0x7fcfa73929d0>: Failed to establish a new connection: [Errno -3] Temporary failure in name resolution')': /simple/tensorflow/\u001b[0m\n",
      "\u001b[33mWARNING: Retrying (Retry(total=2, connect=None, read=None, redirect=None, status=None)) after connection broken by 'NewConnectionError('<urllib3.connection.VerifiedHTTPSConnection object at 0x7fcfa7392850>: Failed to establish a new connection: [Errno -3] Temporary failure in name resolution')': /simple/tensorflow/\u001b[0m\n",
      "\u001b[33mWARNING: Retrying (Retry(total=1, connect=None, read=None, redirect=None, status=None)) after connection broken by 'NewConnectionError('<urllib3.connection.VerifiedHTTPSConnection object at 0x7fcfa7392a60>: Failed to establish a new connection: [Errno -3] Temporary failure in name resolution')': /simple/tensorflow/\u001b[0m\n",
      "\u001b[33mWARNING: Retrying (Retry(total=0, connect=None, read=None, redirect=None, status=None)) after connection broken by 'NewConnectionError('<urllib3.connection.VerifiedHTTPSConnection object at 0x7fcfa7392b20>: Failed to establish a new connection: [Errno -3] Temporary failure in name resolution')': /simple/tensorflow/\u001b[0m\n",
      "Requirement already up-to-date: tensorflow in /home/shivani/.local/lib/python3.8/site-packages (2.10.0)\n",
      "Requirement already satisfied, skipping upgrade: termcolor>=1.1.0 in /home/shivani/.local/lib/python3.8/site-packages (from tensorflow) (2.0.1)\n",
      "Requirement already satisfied, skipping upgrade: typing-extensions>=3.6.6 in /home/shivani/.local/lib/python3.8/site-packages (from tensorflow) (4.2.0)\n",
      "Requirement already satisfied, skipping upgrade: astunparse>=1.6.0 in /home/shivani/.local/lib/python3.8/site-packages (from tensorflow) (1.6.3)\n",
      "Requirement already satisfied, skipping upgrade: keras-preprocessing>=1.1.1 in /home/shivani/.local/lib/python3.8/site-packages (from tensorflow) (1.1.2)\n",
      "Requirement already satisfied, skipping upgrade: tensorflow-io-gcs-filesystem>=0.23.1 in /home/shivani/.local/lib/python3.8/site-packages (from tensorflow) (0.27.0)\n",
      "Requirement already satisfied, skipping upgrade: google-pasta>=0.1.1 in /home/shivani/.local/lib/python3.8/site-packages (from tensorflow) (0.2.0)\n",
      "Requirement already satisfied, skipping upgrade: tensorflow-estimator<2.11,>=2.10.0 in /home/shivani/.local/lib/python3.8/site-packages (from tensorflow) (2.10.0)\n",
      "Requirement already satisfied, skipping upgrade: h5py>=2.9.0 in /home/shivani/.local/lib/python3.8/site-packages (from tensorflow) (3.7.0)\n",
      "Requirement already satisfied, skipping upgrade: tensorboard<2.11,>=2.10 in /home/shivani/.local/lib/python3.8/site-packages (from tensorflow) (2.10.0)\n",
      "Requirement already satisfied, skipping upgrade: protobuf<3.20,>=3.9.2 in /home/shivani/.local/lib/python3.8/site-packages (from tensorflow) (3.19.4)\n",
      "Requirement already satisfied, skipping upgrade: packaging in /home/shivani/.local/lib/python3.8/site-packages (from tensorflow) (21.3)\n",
      "Requirement already satisfied, skipping upgrade: keras<2.11,>=2.10.0 in /home/shivani/.local/lib/python3.8/site-packages (from tensorflow) (2.10.0)\n",
      "Requirement already satisfied, skipping upgrade: opt-einsum>=2.3.2 in /home/shivani/.local/lib/python3.8/site-packages (from tensorflow) (3.3.0)\n",
      "Requirement already satisfied, skipping upgrade: numpy>=1.20 in /home/shivani/.local/lib/python3.8/site-packages (from tensorflow) (1.22.4)\n",
      "Requirement already satisfied, skipping upgrade: absl-py>=1.0.0 in /home/shivani/.local/lib/python3.8/site-packages (from tensorflow) (1.2.0)\n",
      "Requirement already satisfied, skipping upgrade: setuptools in /usr/lib/python3/dist-packages (from tensorflow) (45.2.0)\n",
      "Requirement already satisfied, skipping upgrade: flatbuffers>=2.0 in /home/shivani/.local/lib/python3.8/site-packages (from tensorflow) (2.0.7)\n",
      "Requirement already satisfied, skipping upgrade: libclang>=13.0.0 in /home/shivani/.local/lib/python3.8/site-packages (from tensorflow) (14.0.6)\n",
      "Requirement already satisfied, skipping upgrade: grpcio<2.0,>=1.24.3 in /home/shivani/.local/lib/python3.8/site-packages (from tensorflow) (1.48.1)\n",
      "Requirement already satisfied, skipping upgrade: gast<=0.4.0,>=0.2.1 in /home/shivani/.local/lib/python3.8/site-packages (from tensorflow) (0.4.0)\n",
      "Requirement already satisfied, skipping upgrade: wrapt>=1.11.0 in /home/shivani/.local/lib/python3.8/site-packages (from tensorflow) (1.14.1)\n",
      "Requirement already satisfied, skipping upgrade: six>=1.12.0 in /usr/lib/python3/dist-packages (from tensorflow) (1.14.0)\n",
      "Requirement already satisfied, skipping upgrade: wheel<1.0,>=0.23.0 in /usr/lib/python3/dist-packages (from astunparse>=1.6.0->tensorflow) (0.34.2)\n",
      "Requirement already satisfied, skipping upgrade: requests<3,>=2.21.0 in /usr/lib/python3/dist-packages (from tensorboard<2.11,>=2.10->tensorflow) (2.22.0)\n",
      "Requirement already satisfied, skipping upgrade: tensorboard-data-server<0.7.0,>=0.6.0 in /home/shivani/.local/lib/python3.8/site-packages (from tensorboard<2.11,>=2.10->tensorflow) (0.6.1)\n",
      "Requirement already satisfied, skipping upgrade: google-auth-oauthlib<0.5,>=0.4.1 in /home/shivani/.local/lib/python3.8/site-packages (from tensorboard<2.11,>=2.10->tensorflow) (0.4.6)\n",
      "Requirement already satisfied, skipping upgrade: markdown>=2.6.8 in /home/shivani/.local/lib/python3.8/site-packages (from tensorboard<2.11,>=2.10->tensorflow) (3.4.1)\n",
      "Requirement already satisfied, skipping upgrade: tensorboard-plugin-wit>=1.6.0 in /home/shivani/.local/lib/python3.8/site-packages (from tensorboard<2.11,>=2.10->tensorflow) (1.8.1)\n",
      "Requirement already satisfied, skipping upgrade: werkzeug>=1.0.1 in /home/shivani/.local/lib/python3.8/site-packages (from tensorboard<2.11,>=2.10->tensorflow) (2.2.2)\n",
      "Requirement already satisfied, skipping upgrade: google-auth<3,>=1.6.3 in /home/shivani/.local/lib/python3.8/site-packages (from tensorboard<2.11,>=2.10->tensorflow) (2.11.0)\n",
      "Requirement already satisfied, skipping upgrade: pyparsing!=3.0.5,>=2.0.2 in /home/shivani/.local/lib/python3.8/site-packages (from packaging->tensorflow) (3.0.9)\n",
      "Requirement already satisfied, skipping upgrade: requests-oauthlib>=0.7.0 in /home/shivani/.local/lib/python3.8/site-packages (from google-auth-oauthlib<0.5,>=0.4.1->tensorboard<2.11,>=2.10->tensorflow) (1.3.1)\n",
      "Requirement already satisfied, skipping upgrade: importlib-metadata>=4.4; python_version < \"3.10\" in /home/shivani/.local/lib/python3.8/site-packages (from markdown>=2.6.8->tensorboard<2.11,>=2.10->tensorflow) (4.12.0)\n",
      "Requirement already satisfied, skipping upgrade: MarkupSafe>=2.1.1 in /home/shivani/.local/lib/python3.8/site-packages (from werkzeug>=1.0.1->tensorboard<2.11,>=2.10->tensorflow) (2.1.1)\n",
      "Requirement already satisfied, skipping upgrade: cachetools<6.0,>=2.0.0 in /home/shivani/.local/lib/python3.8/site-packages (from google-auth<3,>=1.6.3->tensorboard<2.11,>=2.10->tensorflow) (5.2.0)\n",
      "Requirement already satisfied, skipping upgrade: rsa<5,>=3.1.4; python_version >= \"3.6\" in /home/shivani/.local/lib/python3.8/site-packages (from google-auth<3,>=1.6.3->tensorboard<2.11,>=2.10->tensorflow) (4.9)\n",
      "Requirement already satisfied, skipping upgrade: pyasn1-modules>=0.2.1 in /home/shivani/.local/lib/python3.8/site-packages (from google-auth<3,>=1.6.3->tensorboard<2.11,>=2.10->tensorflow) (0.2.8)\n",
      "Requirement already satisfied, skipping upgrade: oauthlib>=3.0.0 in /usr/lib/python3/dist-packages (from requests-oauthlib>=0.7.0->google-auth-oauthlib<0.5,>=0.4.1->tensorboard<2.11,>=2.10->tensorflow) (3.1.0)\n",
      "Requirement already satisfied, skipping upgrade: zipp>=0.5 in /home/shivani/.local/lib/python3.8/site-packages (from importlib-metadata>=4.4; python_version < \"3.10\"->markdown>=2.6.8->tensorboard<2.11,>=2.10->tensorflow) (3.8.0)\n",
      "Requirement already satisfied, skipping upgrade: pyasn1>=0.1.3 in /home/shivani/.local/lib/python3.8/site-packages (from rsa<5,>=3.1.4; python_version >= \"3.6\"->google-auth<3,>=1.6.3->tensorboard<2.11,>=2.10->tensorflow) (0.4.8)\n"
     ]
    },
    {
     "name": "stdout",
     "output_type": "stream",
     "text": [
      "Note: you may need to restart the kernel to use updated packages.\n"
     ]
    }
   ],
   "source": [
    "pip install tensorflow --upgrade"
   ]
  },
  {
   "cell_type": "code",
   "execution_count": 6,
   "id": "0da36a7d",
   "metadata": {},
   "outputs": [
    {
     "name": "stdout",
     "output_type": "stream",
     "text": [
      "Collecting tensorflow_hub\n",
      "  Downloading tensorflow_hub-0.12.0-py2.py3-none-any.whl (108 kB)\n",
      "\u001b[K     |████████████████████████████████| 108 kB 2.9 MB/s eta 0:00:01\n",
      "\u001b[?25hRequirement already satisfied: protobuf>=3.8.0 in /home/shivani/.local/lib/python3.8/site-packages (from tensorflow_hub) (3.19.4)\n",
      "Requirement already satisfied: numpy>=1.12.0 in /home/shivani/.local/lib/python3.8/site-packages (from tensorflow_hub) (1.22.4)\n",
      "Installing collected packages: tensorflow-hub\n",
      "Successfully installed tensorflow-hub-0.12.0\n",
      "Note: you may need to restart the kernel to use updated packages.\n"
     ]
    }
   ],
   "source": [
    "pip install tensorflow_hub"
   ]
  },
  {
   "cell_type": "code",
   "execution_count": 12,
   "id": "3a205107",
   "metadata": {},
   "outputs": [
    {
     "name": "stdout",
     "output_type": "stream",
     "text": [
      "Version:  2.10.0\n",
      "Eager mode:  True\n",
      "Hub version:  0.12.0\n",
      "GPU is NOT AVAILABLE\n"
     ]
    },
    {
     "name": "stderr",
     "output_type": "stream",
     "text": [
      "2022-09-29 13:40:59.065396: W tensorflow/stream_executor/platform/default/dso_loader.cc:64] Could not load dynamic library 'libcuda.so.1'; dlerror: libcuda.so.1: cannot open shared object file: No such file or directory\n",
      "2022-09-29 13:40:59.065641: W tensorflow/stream_executor/cuda/cuda_driver.cc:263] failed call to cuInit: UNKNOWN ERROR (303)\n",
      "2022-09-29 13:40:59.065675: I tensorflow/stream_executor/cuda/cuda_diagnostics.cc:156] kernel driver does not appear to be running on this host (shivani-Latitude-3420): /proc/driver/nvidia/version does not exist\n"
     ]
    }
   ],
   "source": [
    "import os\n",
    "import numpy as np\n",
    "\n",
    "import tensorflow as tf\n",
    "import tensorflow_hub as hub\n",
    "import tensorflow_datasets as tfds\n",
    "\n",
    "print(\"Version: \", tf.__version__)\n",
    "print(\"Eager mode: \", tf.executing_eagerly())\n",
    "print(\"Hub version: \", hub.__version__)\n",
    "print(\"GPU is\", \"available\" if tf.config.list_physical_devices(\"GPU\") else \"NOT AVAILABLE\")"
   ]
  },
  {
   "cell_type": "code",
   "execution_count": 13,
   "id": "da4e551f",
   "metadata": {},
   "outputs": [
    {
     "name": "stdout",
     "output_type": "stream",
     "text": [
      "\u001b[1mDownloading and preparing dataset 80.23 MiB (download: 80.23 MiB, generated: Unknown size, total: 80.23 MiB) to ~/tensorflow_datasets/imdb_reviews/plain_text/1.0.0...\u001b[0m\n"
     ]
    },
    {
     "name": "stderr",
     "output_type": "stream",
     "text": [
      "Dl Completed...: 0 url [00:00, ? url/s]\n",
      "Dl Completed...:   0%|                                  | 0/1 [00:00<?, ? url/s]\n",
      "Dl Completed...:   0%|                                  | 0/1 [00:00<?, ? url/s]\n",
      "Dl Size...:   0%|                                      | 0/80 [00:00<?, ? MiB/s]\u001b[A\n",
      "Dl Completed...:   0%|                                  | 0/1 [00:04<?, ? url/s]\u001b[A\n",
      "Dl Size...:   1%|▍                             | 1/80 [00:04<05:38,  4.29s/ MiB]\u001b[A\n",
      "Dl Completed...:   0%|                                  | 0/1 [00:07<?, ? url/s]\u001b[A\n",
      "Dl Size...:   2%|▊                             | 2/80 [00:07<04:34,  3.52s/ MiB]\u001b[A\n",
      "Dl Completed...:   0%|                                  | 0/1 [00:10<?, ? url/s]\u001b[A\n",
      "Dl Size...:   4%|█▏                            | 3/80 [00:10<04:20,  3.39s/ MiB]\u001b[A\n",
      "Dl Completed...:   0%|                                  | 0/1 [00:13<?, ? url/s]\u001b[A\n",
      "Dl Size...:   5%|█▌                            | 4/80 [00:13<04:17,  3.39s/ MiB]\u001b[A\n",
      "Dl Completed...:   0%|                                  | 0/1 [00:17<?, ? url/s]\u001b[A\n",
      "Dl Size...:   6%|█▉                            | 5/80 [00:17<04:06,  3.29s/ MiB]\u001b[A\n",
      "Dl Completed...:   0%|                                  | 0/1 [00:19<?, ? url/s]\u001b[A\n",
      "Dl Size...:   8%|██▎                           | 6/80 [00:19<03:44,  3.04s/ MiB]\u001b[A\n",
      "Dl Completed...:   0%|                                  | 0/1 [00:22<?, ? url/s]\u001b[A\n",
      "Dl Size...:   9%|██▋                           | 7/80 [00:22<03:38,  2.99s/ MiB]\u001b[A\n",
      "Dl Completed...:   0%|                                  | 0/1 [00:25<?, ? url/s]\u001b[A\n",
      "Dl Size...:  10%|███                           | 8/80 [00:25<03:31,  2.93s/ MiB]\u001b[A\n",
      "Dl Completed...:   0%|                                  | 0/1 [00:27<?, ? url/s]\u001b[A\n",
      "Dl Size...:  11%|███▍                          | 9/80 [00:27<03:07,  2.65s/ MiB]\u001b[A\n",
      "Dl Completed...:   0%|                                  | 0/1 [00:29<?, ? url/s]\u001b[A\n",
      "Dl Size...:  12%|███▋                         | 10/80 [00:29<02:55,  2.50s/ MiB]\u001b[A\n",
      "Dl Completed...:   0%|                                  | 0/1 [00:31<?, ? url/s]\u001b[A\n",
      "Dl Size...:  14%|███▉                         | 11/80 [00:31<02:34,  2.24s/ MiB]\u001b[A\n",
      "Dl Completed...:   0%|                                  | 0/1 [00:32<?, ? url/s]\u001b[A\n",
      "Dl Size...:  15%|████▎                        | 12/80 [00:32<02:16,  2.00s/ MiB]\u001b[A\n",
      "Dl Completed...:   0%|                                  | 0/1 [00:33<?, ? url/s]\u001b[A\n",
      "Dl Size...:  16%|████▋                        | 13/80 [00:33<02:01,  1.82s/ MiB]\u001b[A\n",
      "Dl Completed...:   0%|                                  | 0/1 [00:35<?, ? url/s]\u001b[A\n",
      "Dl Size...:  18%|█████                        | 14/80 [00:35<01:49,  1.65s/ MiB]\u001b[A\n",
      "Dl Completed...:   0%|                                  | 0/1 [00:36<?, ? url/s]\u001b[A\n",
      "Dl Size...:  19%|█████▍                       | 15/80 [00:36<01:38,  1.52s/ MiB]\u001b[A\n",
      "Dl Completed...:   0%|                                  | 0/1 [00:37<?, ? url/s]\u001b[A\n",
      "Dl Size...:  20%|█████▊                       | 16/80 [00:37<01:31,  1.43s/ MiB]\u001b[A\n",
      "Dl Completed...:   0%|                                  | 0/1 [00:38<?, ? url/s]\u001b[A\n",
      "Dl Size...:  21%|██████▏                      | 17/80 [00:38<01:24,  1.34s/ MiB]\u001b[A\n",
      "Dl Completed...:   0%|                                  | 0/1 [00:39<?, ? url/s]\u001b[A\n",
      "Dl Size...:  22%|██████▌                      | 18/80 [00:39<01:14,  1.20s/ MiB]\u001b[A\n",
      "Dl Completed...:   0%|                                  | 0/1 [00:40<?, ? url/s]\u001b[A\n",
      "Dl Size...:  24%|██████▉                      | 19/80 [00:40<01:06,  1.10s/ MiB]\u001b[A\n",
      "Dl Completed...:   0%|                                  | 0/1 [00:41<?, ? url/s]\u001b[A\n",
      "Dl Size...:  25%|███████▎                     | 20/80 [00:41<01:00,  1.01s/ MiB]\u001b[A\n",
      "Dl Completed...:   0%|                                  | 0/1 [00:42<?, ? url/s]\u001b[A\n",
      "Dl Size...:  26%|███████▌                     | 21/80 [00:42<00:56,  1.05 MiB/s]\u001b[A\n",
      "Dl Completed...:   0%|                                  | 0/1 [00:42<?, ? url/s]\u001b[A\n",
      "Dl Size...:  28%|███████▉                     | 22/80 [00:42<00:49,  1.18 MiB/s]\u001b[A\n",
      "Dl Completed...:   0%|                                  | 0/1 [00:43<?, ? url/s]\u001b[A\n",
      "Dl Size...:  29%|████████▎                    | 23/80 [00:43<00:47,  1.19 MiB/s]\u001b[A\n",
      "Dl Completed...:   0%|                                  | 0/1 [00:44<?, ? url/s]\u001b[A\n",
      "Dl Size...:  30%|████████▋                    | 24/80 [00:44<00:47,  1.18 MiB/s]\u001b[A\n",
      "Dl Completed...:   0%|                                  | 0/1 [00:45<?, ? url/s]\u001b[A\n",
      "Dl Size...:  31%|█████████                    | 25/80 [00:45<00:46,  1.18 MiB/s]\u001b[A\n",
      "Dl Completed...:   0%|                                  | 0/1 [00:46<?, ? url/s]\u001b[A\n",
      "Dl Size...:  32%|█████████▍                   | 26/80 [00:46<00:45,  1.19 MiB/s]\u001b[A\n",
      "Dl Completed...:   0%|                                  | 0/1 [00:46<?, ? url/s]\u001b[A\n",
      "Dl Size...:  34%|█████████▊                   | 27/80 [00:46<00:43,  1.22 MiB/s]\u001b[A\n",
      "Dl Completed...:   0%|                                  | 0/1 [00:47<?, ? url/s]\u001b[A\n",
      "Dl Size...:  35%|██████████▏                  | 28/80 [00:47<00:39,  1.31 MiB/s]\u001b[A\n",
      "Dl Completed...:   0%|                                  | 0/1 [00:48<?, ? url/s]\u001b[A\n",
      "Dl Size...:  36%|██████████▌                  | 29/80 [00:48<00:40,  1.24 MiB/s]\u001b[A\n",
      "Dl Completed...:   0%|                                  | 0/1 [00:49<?, ? url/s]\u001b[A\n",
      "Dl Size...:  38%|██████████▉                  | 30/80 [00:49<00:42,  1.19 MiB/s]\u001b[A\n",
      "Dl Completed...:   0%|                                  | 0/1 [00:50<?, ? url/s]\u001b[A\n",
      "Dl Size...:  39%|███████████▏                 | 31/80 [00:50<00:42,  1.15 MiB/s]\u001b[A\n",
      "Dl Completed...:   0%|                                  | 0/1 [00:51<?, ? url/s]\u001b[A\n",
      "Dl Size...:  40%|███████████▌                 | 32/80 [00:51<00:41,  1.15 MiB/s]\u001b[A\n",
      "Dl Completed...:   0%|                                  | 0/1 [00:52<?, ? url/s]\u001b[A\n",
      "Dl Size...:  41%|███████████▉                 | 33/80 [00:52<00:43,  1.08 MiB/s]\u001b[A\n",
      "Dl Completed...:   0%|                                  | 0/1 [00:53<?, ? url/s]\u001b[A\n",
      "Dl Size...:  42%|████████████▎                | 34/80 [00:53<00:42,  1.08 MiB/s]\u001b[A\n",
      "Dl Completed...:   0%|                                  | 0/1 [00:54<?, ? url/s]\u001b[A\n",
      "Dl Size...:  44%|████████████▋                | 35/80 [00:54<00:42,  1.06 MiB/s]\u001b[A\n",
      "Dl Completed...:   0%|                                  | 0/1 [00:55<?, ? url/s]\u001b[A\n",
      "Dl Size...:  45%|█████████████                | 36/80 [00:55<00:41,  1.07 MiB/s]\u001b[A\n",
      "Dl Completed...:   0%|                                  | 0/1 [00:55<?, ? url/s]\u001b[A\n",
      "Dl Size...:  46%|█████████████▍               | 37/80 [00:55<00:40,  1.06 MiB/s]\u001b[A\n",
      "Dl Completed...:   0%|                                  | 0/1 [00:56<?, ? url/s]\u001b[A\n",
      "Dl Size...:  48%|█████████████▊               | 38/80 [00:56<00:39,  1.06 MiB/s]\u001b[A\n",
      "Dl Completed...:   0%|                                  | 0/1 [00:57<?, ? url/s]\u001b[A\n",
      "Dl Size...:  49%|██████████████▏              | 39/80 [00:57<00:37,  1.08 MiB/s]\u001b[A\n",
      "Dl Completed...:   0%|                                  | 0/1 [00:58<?, ? url/s]\u001b[A\n",
      "Dl Size...:  50%|██████████████▌              | 40/80 [00:58<00:37,  1.08 MiB/s]\u001b[A\n",
      "Dl Completed...:   0%|                                  | 0/1 [00:59<?, ? url/s]\u001b[A\n",
      "Dl Size...:  51%|██████████████▊              | 41/80 [00:59<00:35,  1.11 MiB/s]\u001b[A\n",
      "Dl Completed...:   0%|                                  | 0/1 [01:00<?, ? url/s]\u001b[A\n",
      "Dl Size...:  52%|███████████████▏             | 42/80 [01:00<00:32,  1.18 MiB/s]\u001b[A\n",
      "Dl Completed...:   0%|                                  | 0/1 [01:01<?, ? url/s]\u001b[A\n",
      "Dl Size...:  54%|███████████████▌             | 43/80 [01:01<00:30,  1.22 MiB/s]\u001b[A\n",
      "Dl Completed...:   0%|                                  | 0/1 [01:01<?, ? url/s]\u001b[A\n",
      "Dl Size...:  55%|███████████████▉             | 44/80 [01:01<00:27,  1.33 MiB/s]\u001b[A\n",
      "Dl Completed...:   0%|                                  | 0/1 [01:02<?, ? url/s]\u001b[A\n",
      "Dl Size...:  56%|████████████████▎            | 45/80 [01:02<00:25,  1.39 MiB/s]\u001b[A\n",
      "Dl Completed...:   0%|                                  | 0/1 [01:02<?, ? url/s]\u001b[A\n",
      "Dl Size...:  57%|████████████████▋            | 46/80 [01:02<00:23,  1.47 MiB/s]\u001b[A\n",
      "Dl Completed...:   0%|                                  | 0/1 [01:03<?, ? url/s]\u001b[A\n",
      "Dl Size...:  59%|█████████████████            | 47/80 [01:03<00:20,  1.58 MiB/s]\u001b[A\n"
     ]
    },
    {
     "name": "stderr",
     "output_type": "stream",
     "text": [
      "Dl Completed...:   0%|                                  | 0/1 [01:03<?, ? url/s]\u001b[A\n",
      "Dl Size...:  60%|█████████████████▍           | 48/80 [01:03<00:18,  1.70 MiB/s]\u001b[A\n",
      "Dl Completed...:   0%|                                  | 0/1 [01:04<?, ? url/s]\u001b[A\n",
      "Dl Size...:  61%|█████████████████▊           | 49/80 [01:04<00:17,  1.78 MiB/s]\u001b[A\n",
      "Dl Completed...:   0%|                                  | 0/1 [01:04<?, ? url/s]\u001b[A\n",
      "Dl Size...:  62%|██████████████████▏          | 50/80 [01:04<00:15,  1.88 MiB/s]\u001b[A\n",
      "Dl Completed...:   0%|                                  | 0/1 [01:05<?, ? url/s]\u001b[A\n",
      "Dl Size...:  64%|██████████████████▍          | 51/80 [01:05<00:14,  2.04 MiB/s]\u001b[A\n",
      "Dl Completed...:   0%|                                  | 0/1 [01:05<?, ? url/s]\u001b[A\n",
      "Dl Size...:  65%|██████████████████▊          | 52/80 [01:05<00:13,  2.10 MiB/s]\u001b[A\n",
      "Dl Completed...:   0%|                                  | 0/1 [01:06<?, ? url/s]\u001b[A\n",
      "Dl Size...:  66%|███████████████████▏         | 53/80 [01:06<00:12,  2.24 MiB/s]\u001b[A\n",
      "Dl Completed...:   0%|                                  | 0/1 [01:06<?, ? url/s]\u001b[A\n",
      "Dl Size...:  68%|███████████████████▌         | 54/80 [01:06<00:11,  2.30 MiB/s]\u001b[A\n",
      "Dl Completed...:   0%|                                  | 0/1 [01:06<?, ? url/s]\u001b[A\n",
      "Dl Size...:  69%|███████████████████▉         | 55/80 [01:06<00:10,  2.38 MiB/s]\u001b[A\n",
      "Dl Completed...:   0%|                                  | 0/1 [01:07<?, ? url/s]\u001b[A\n",
      "Dl Size...:  70%|████████████████████▎        | 56/80 [01:07<00:09,  2.55 MiB/s]\u001b[A\n",
      "Dl Completed...:   0%|                                  | 0/1 [01:07<?, ? url/s]\u001b[A\n",
      "Dl Size...:  71%|████████████████████▋        | 57/80 [01:07<00:08,  2.66 MiB/s]\u001b[A\n",
      "Dl Completed...:   0%|                                  | 0/1 [01:07<?, ? url/s]\u001b[A\n",
      "Dl Size...:  72%|█████████████████████        | 58/80 [01:07<00:08,  2.65 MiB/s]\u001b[A\n",
      "Dl Completed...:   0%|                                  | 0/1 [01:08<?, ? url/s]\u001b[A\n",
      "Dl Size...:  74%|█████████████████████▍       | 59/80 [01:08<00:07,  2.73 MiB/s]\u001b[A\n",
      "Dl Completed...:   0%|                                  | 0/1 [01:08<?, ? url/s]\u001b[A\n",
      "Dl Size...:  75%|█████████████████████▊       | 60/80 [01:08<00:06,  2.88 MiB/s]\u001b[A\n",
      "Dl Completed...:   0%|                                  | 0/1 [01:08<?, ? url/s]\u001b[A\n",
      "Dl Size...:  76%|██████████████████████       | 61/80 [01:08<00:06,  3.00 MiB/s]\u001b[A\n",
      "Dl Completed...:   0%|                                  | 0/1 [01:09<?, ? url/s]\u001b[A\n",
      "Dl Size...:  78%|██████████████████████▍      | 62/80 [01:09<00:05,  3.12 MiB/s]\u001b[A\n",
      "Dl Completed...:   0%|                                  | 0/1 [01:09<?, ? url/s]\u001b[A\n",
      "Dl Size...:  79%|██████████████████████▊      | 63/80 [01:09<00:05,  3.20 MiB/s]\u001b[A\n",
      "Dl Completed...:   0%|                                  | 0/1 [01:09<?, ? url/s]\u001b[A\n",
      "Dl Size...:  80%|███████████████████████▏     | 64/80 [01:09<00:04,  3.28 MiB/s]\u001b[A\n",
      "Dl Completed...:   0%|                                  | 0/1 [01:10<?, ? url/s]\u001b[A\n",
      "Dl Size...:  81%|███████████████████████▌     | 65/80 [01:10<00:04,  3.28 MiB/s]\u001b[A\n",
      "Dl Completed...:   0%|                                  | 0/1 [01:10<?, ? url/s]\u001b[A\n",
      "Dl Size...:  82%|███████████████████████▉     | 66/80 [01:10<00:04,  3.29 MiB/s]\u001b[A\n",
      "Dl Completed...:   0%|                                  | 0/1 [01:10<?, ? url/s]\u001b[A\n",
      "Dl Size...:  84%|████████████████████████▎    | 67/80 [01:10<00:03,  3.35 MiB/s]\u001b[A\n",
      "Dl Completed...:   0%|                                  | 0/1 [01:10<?, ? url/s]\u001b[A\n",
      "Dl Size...:  85%|████████████████████████▋    | 68/80 [01:10<00:03,  3.40 MiB/s]\u001b[A\n",
      "Dl Completed...:   0%|                                  | 0/1 [01:11<?, ? url/s]\u001b[A\n",
      "Dl Size...:  86%|█████████████████████████    | 69/80 [01:11<00:03,  3.49 MiB/s]\u001b[A\n",
      "Dl Completed...:   0%|                                  | 0/1 [01:11<?, ? url/s]\u001b[A\n",
      "Dl Size...:  88%|█████████████████████████▍   | 70/80 [01:11<00:02,  3.52 MiB/s]\u001b[A\n",
      "Dl Completed...:   0%|                                  | 0/1 [01:11<?, ? url/s]\u001b[A\n",
      "Dl Size...:  89%|█████████████████████████▋   | 71/80 [01:11<00:02,  3.59 MiB/s]\u001b[A\n",
      "Dl Completed...:   0%|                                  | 0/1 [01:11<?, ? url/s]\u001b[A\n",
      "Dl Size...:  90%|██████████████████████████   | 72/80 [01:11<00:02,  3.70 MiB/s]\u001b[A\n",
      "Dl Completed...:   0%|                                  | 0/1 [01:12<?, ? url/s]\u001b[A\n",
      "Dl Size...:  91%|██████████████████████████▍  | 73/80 [01:12<00:01,  3.87 MiB/s]\u001b[A\n",
      "Dl Completed...:   0%|                                  | 0/1 [01:12<?, ? url/s]\u001b[A\n",
      "Dl Size...:  92%|██████████████████████████▊  | 74/80 [01:12<00:01,  3.94 MiB/s]\u001b[A\n",
      "Dl Completed...:   0%|                                  | 0/1 [01:12<?, ? url/s]\u001b[A\n",
      "Dl Size...:  94%|███████████████████████████▏ | 75/80 [01:12<00:01,  4.02 MiB/s]\u001b[A\n",
      "Dl Completed...:   0%|                                  | 0/1 [01:12<?, ? url/s]\u001b[A\n",
      "Dl Size...:  95%|███████████████████████████▌ | 76/80 [01:12<00:00,  4.07 MiB/s]\u001b[A\n",
      "Dl Completed...:   0%|                                  | 0/1 [01:13<?, ? url/s]\u001b[A\n",
      "Dl Size...:  96%|███████████████████████████▉ | 77/80 [01:13<00:00,  3.99 MiB/s]\u001b[A\n",
      "Dl Completed...:   0%|                                  | 0/1 [01:13<?, ? url/s]\u001b[A\n",
      "Dl Size...:  98%|████████████████████████████▎| 78/80 [01:13<00:00,  4.09 MiB/s]\u001b[A\n",
      "Dl Completed...:   0%|                                  | 0/1 [01:13<?, ? url/s]\u001b[A\n",
      "Dl Size...:  99%|████████████████████████████▋| 79/80 [01:13<00:00,  4.31 MiB/s]\u001b[A\n",
      "Dl Completed...:   0%|                                  | 0/1 [01:13<?, ? url/s]\u001b[A\n",
      "Dl Completed...: 100%|██████████████████████████| 1/1 [01:13<00:00, 73.87s/ url]\u001b[A\n",
      "Dl Size...: 100%|█████████████████████████████| 80/80 [01:13<00:00,  1.08 MiB/s]\u001b[A\n",
      "Dl Completed...: 100%|██████████████████████████| 1/1 [01:13<00:00, 73.87s/ url]\n",
      "Generating splits...:   0%|                          | 0/3 [00:00<?, ? splits/s]\n",
      "Generating train examples...:   0%|            | 0/25000 [00:00<?, ? examples/s]\u001b[A\n",
      "Generating train examples...:   0%| | 1/25000 [00:01<12:52:54,  1.86s/ examples]\u001b[A\n",
      "Generating train examples...:   3%| | 684/25000 [00:01<00:49, 488.83 examples/s]\u001b[A\n",
      "Generating train examples...:   5%| | 1368/25000 [00:02<00:21, 1077.36 examples/\u001b[A\n",
      "Generating train examples...:   8%| | 2051/25000 [00:02<00:13, 1749.61 examples/\u001b[A\n",
      "Generating train examples...:  11%| | 2744/25000 [00:02<00:08, 2490.65 examples/\u001b[A\n",
      "Generating train examples...:  13%|▏| 3372/25000 [00:02<00:06, 3101.79 examples/\u001b[A\n",
      "Generating train examples...:  16%|▏| 4062/25000 [00:02<00:05, 3835.96 examples/\u001b[A\n",
      "Generating train examples...:  19%|▏| 4742/25000 [00:02<00:04, 4476.42 examples/\u001b[A\n",
      "Generating train examples...:  22%|▏| 5394/25000 [00:02<00:04, 4833.00 examples/\u001b[A\n",
      "Generating train examples...:  24%|▏| 6082/25000 [00:02<00:03, 5338.07 examples/\u001b[A\n",
      "Generating train examples...:  27%|▎| 6781/25000 [00:02<00:03, 5768.34 examples/\u001b[A\n",
      "Generating train examples...:  30%|▎| 7473/25000 [00:02<00:02, 6079.84 examples/\u001b[A\n",
      "Generating train examples...:  33%|▎| 8150/25000 [00:03<00:02, 6272.58 examples/\u001b[A\n",
      "Generating train examples...:  35%|▎| 8824/25000 [00:03<00:02, 6379.22 examples/\u001b[A\n",
      "Generating train examples...:  38%|▍| 9509/25000 [00:03<00:02, 6514.75 examples/\u001b[A\n",
      "Generating train examples...:  41%|▍| 10185/25000 [00:03<00:02, 6378.36 examples\u001b[A\n",
      "Generating train examples...:  43%|▍| 10871/25000 [00:03<00:02, 6516.15 examples\u001b[A\n",
      "Generating train examples...:  46%|▍| 11552/25000 [00:03<00:02, 6601.19 examples\u001b[A\n",
      "Generating train examples...:  49%|▍| 12222/25000 [00:03<00:01, 6577.00 examples\u001b[A\n",
      "Generating train examples...:  52%|▌| 12904/25000 [00:03<00:01, 6648.13 examples\u001b[A\n",
      "Generating train examples...:  54%|▌| 13581/25000 [00:03<00:01, 6682.43 examples\u001b[A\n",
      "Generating train examples...:  57%|▌| 14260/25000 [00:03<00:01, 6713.96 examples\u001b[A\n",
      "Generating train examples...:  60%|▌| 14934/25000 [00:04<00:01, 6558.38 examples\u001b[A\n",
      "Generating train examples...:  62%|▌| 15593/25000 [00:04<00:01, 6492.95 examples\u001b[A\n",
      "Generating train examples...:  65%|▋| 16244/25000 [00:04<00:01, 6392.87 examples\u001b[A\n",
      "Generating train examples...:  68%|▋| 16885/25000 [00:04<00:01, 6190.33 examples\u001b[A\n",
      "Generating train examples...:  70%|▋| 17541/25000 [00:04<00:01, 6292.87 examples\u001b[A\n"
     ]
    },
    {
     "name": "stderr",
     "output_type": "stream",
     "text": [
      "Generating train examples...:  73%|▋| 18173/25000 [00:04<00:01, 6162.69 examples\u001b[A\n",
      "Generating train examples...:  75%|▊| 18826/25000 [00:04<00:00, 6268.25 examples\u001b[A\n",
      "Generating train examples...:  78%|▊| 19511/25000 [00:04<00:00, 6437.46 examples\u001b[A\n",
      "Generating train examples...:  81%|▊| 20169/25000 [00:04<00:00, 6478.30 examples\u001b[A\n",
      "Generating train examples...:  83%|▊| 20843/25000 [00:05<00:00, 6553.82 examples\u001b[A\n",
      "Generating train examples...:  86%|▊| 21519/25000 [00:05<00:00, 6614.93 examples\u001b[A\n",
      "Generating train examples...:  89%|▉| 22204/25000 [00:05<00:00, 6684.86 examples\u001b[A\n",
      "Generating train examples...:  91%|▉| 22873/25000 [00:05<00:00, 6413.65 examples\u001b[A\n",
      "Generating train examples...:  94%|▉| 23535/25000 [00:05<00:00, 6472.40 examples\u001b[A\n",
      "Generating train examples...:  97%|▉| 24185/25000 [00:05<00:00, 6193.56 examples\u001b[A\n",
      "Generating train examples...:  99%|▉| 24863/25000 [00:05<00:00, 6359.92 examples\u001b[A\n",
      "                                                                                \u001b[A\n",
      "Shuffling ~/tensorflow_datasets/imdb_reviews/plain_text/1.0.0.incompleteIQ6RSI/i\u001b[A\n",
      "Generating splits...:  33%|██████            | 1/3 [00:08<00:17,  8.71s/ splits]\u001b[A\n",
      "Generating test examples...:   0%|             | 0/25000 [00:00<?, ? examples/s]\u001b[A\n",
      "Generating test examples...:   0%|   | 1/25000 [00:00<3:36:36,  1.92 examples/s]\u001b[A\n",
      "Generating test examples...:   3%| | 664/25000 [00:00<00:17, 1430.60 examples/s]\u001b[A\n",
      "Generating test examples...:   5%| | 1367/25000 [00:00<00:08, 2748.00 examples/s\u001b[A\n",
      "Generating test examples...:   8%| | 2039/25000 [00:00<00:06, 3746.39 examples/s\u001b[A\n",
      "Generating test examples...:  11%| | 2716/25000 [00:00<00:04, 4545.05 examples/s\u001b[A\n",
      "Generating test examples...:  14%|▏| 3411/25000 [00:01<00:04, 5204.06 examples/s\u001b[A\n",
      "Generating test examples...:  16%|▏| 4107/25000 [00:01<00:03, 5697.98 examples/s\u001b[A\n",
      "Generating test examples...:  19%|▏| 4785/25000 [00:01<00:03, 6007.94 examples/s\u001b[A\n",
      "Generating test examples...:  22%|▏| 5494/25000 [00:01<00:03, 6321.06 examples/s\u001b[A\n",
      "Generating test examples...:  25%|▏| 6186/25000 [00:01<00:02, 6494.73 examples/s\u001b[A\n",
      "Generating test examples...:  28%|▎| 6885/25000 [00:01<00:02, 6640.45 examples/s\u001b[A\n",
      "Generating test examples...:  30%|▎| 7574/25000 [00:01<00:02, 6700.21 examples/s\u001b[A\n",
      "Generating test examples...:  33%|▎| 8261/25000 [00:01<00:02, 6723.17 examples/s\u001b[A\n",
      "Generating test examples...:  36%|▎| 8952/25000 [00:01<00:02, 6778.39 examples/s\u001b[A\n",
      "Generating test examples...:  39%|▍| 9639/25000 [00:01<00:02, 6781.58 examples/s\u001b[A\n",
      "Generating test examples...:  41%|▍| 10323/25000 [00:02<00:02, 6711.61 examples/\u001b[A\n",
      "Generating test examples...:  44%|▍| 11005/25000 [00:02<00:02, 6740.64 examples/\u001b[A\n",
      "Generating test examples...:  47%|▍| 11698/25000 [00:02<00:01, 6795.24 examples/\u001b[A\n",
      "Generating test examples...:  50%|▍| 12395/25000 [00:02<00:01, 6844.71 examples/\u001b[A\n",
      "Generating test examples...:  52%|▌| 13082/25000 [00:02<00:01, 6835.88 examples/\u001b[A\n",
      "Generating test examples...:  55%|▌| 13767/25000 [00:02<00:01, 6683.32 examples/\u001b[A\n",
      "Generating test examples...:  58%|▌| 14451/25000 [00:02<00:01, 6729.26 examples/\u001b[A\n",
      "Generating test examples...:  61%|▌| 15147/25000 [00:02<00:01, 6795.12 examples/\u001b[A\n",
      "Generating test examples...:  63%|▋| 15828/25000 [00:02<00:01, 6528.74 examples/\u001b[A\n",
      "Generating test examples...:  66%|▋| 16521/25000 [00:02<00:01, 6643.83 examples/\u001b[A\n",
      "Generating test examples...:  69%|▋| 17204/25000 [00:03<00:01, 6697.55 examples/\u001b[A\n",
      "Generating test examples...:  72%|▋| 17895/25000 [00:03<00:01, 6758.62 examples/\u001b[A\n",
      "Generating test examples...:  74%|▋| 18576/25000 [00:03<00:00, 6772.00 examples/\u001b[A\n",
      "Generating test examples...:  77%|▊| 19259/25000 [00:03<00:00, 6787.98 examples/\u001b[A\n",
      "Generating test examples...:  80%|▊| 19953/25000 [00:03<00:00, 6831.08 examples/\u001b[A\n",
      "Generating test examples...:  83%|▊| 20637/25000 [00:03<00:00, 6776.57 examples/\u001b[A\n",
      "Generating test examples...:  85%|▊| 21316/25000 [00:03<00:00, 6762.78 examples/\u001b[A\n",
      "Generating test examples...:  88%|▉| 21993/25000 [00:03<00:00, 6764.72 examples/\u001b[A\n",
      "Generating test examples...:  91%|▉| 22671/25000 [00:03<00:00, 6767.78 examples/\u001b[A\n",
      "Generating test examples...:  93%|▉| 23358/25000 [00:03<00:00, 6797.48 examples/\u001b[A\n",
      "Generating test examples...:  96%|▉| 24038/25000 [00:04<00:00, 6780.26 examples/\u001b[A\n",
      "Generating test examples...:  99%|▉| 24717/25000 [00:04<00:00, 6592.54 examples/\u001b[A\n",
      "                                                                                \u001b[A\n",
      "Shuffling ~/tensorflow_datasets/imdb_reviews/plain_text/1.0.0.incompleteIQ6RSI/i\u001b[A\n",
      "Generating splits...:  67%|████████████      | 2/3 [00:17<00:08,  8.47s/ splits]\u001b[A\n",
      "Generating unsupervised examples...:   0%|     | 0/50000 [00:00<?, ? examples/s]\u001b[A\n",
      "Generating unsupervised examples...:   0%| | 1/50000 [00:03<44:25:23,  3.20s/ ex\u001b[A\n",
      "Generating unsupervised examples...:   1%| | 700/50000 [00:03<02:44, 299.13 exam\u001b[A\n",
      "Generating unsupervised examples...:   3%| | 1400/50000 [00:03<01:10, 684.76 exa\u001b[A\n",
      "Generating unsupervised examples...:   4%| | 2110/50000 [00:03<00:40, 1172.09 ex\u001b[A\n",
      "Generating unsupervised examples...:   5%| | 2719/50000 [00:03<00:28, 1642.66 ex\u001b[A\n",
      "Generating unsupervised examples...:   7%| | 3322/50000 [00:03<00:21, 2177.65 ex\u001b[A\n",
      "Generating unsupervised examples...:   8%| | 4004/50000 [00:03<00:16, 2866.20 ex\u001b[A\n",
      "Generating unsupervised examples...:   9%| | 4710/50000 [00:03<00:12, 3599.45 ex\u001b[A\n",
      "Generating unsupervised examples...:  11%| | 5413/50000 [00:04<00:10, 4284.44 ex\u001b[A\n",
      "Generating unsupervised examples...:  12%| | 6080/50000 [00:04<00:09, 4741.29 ex\u001b[A\n",
      "Generating unsupervised examples...:  14%|▏| 6781/50000 [00:04<00:08, 5280.74 ex\u001b[A\n",
      "Generating unsupervised examples...:  15%|▏| 7472/50000 [00:04<00:07, 5692.93 ex\u001b[A\n",
      "Generating unsupervised examples...:  16%|▏| 8180/50000 [00:04<00:06, 6060.58 ex\u001b[A\n",
      "Generating unsupervised examples...:  18%|▏| 8868/50000 [00:04<00:06, 6284.96 ex\u001b[A\n",
      "Generating unsupervised examples...:  19%|▏| 9554/50000 [00:04<00:06, 6442.63 ex\u001b[A\n",
      "Generating unsupervised examples...:  21%|▏| 10252/50000 [00:04<00:06, 6595.11 e\u001b[A\n",
      "Generating unsupervised examples...:  22%|▏| 10941/50000 [00:04<00:05, 6678.47 e\u001b[A\n",
      "Generating unsupervised examples...:  23%|▏| 11630/50000 [00:04<00:05, 6631.39 e\u001b[A\n",
      "Generating unsupervised examples...:  25%|▏| 12317/50000 [00:05<00:05, 6699.98 e\u001b[A\n",
      "Generating unsupervised examples...:  26%|▎| 13019/50000 [00:05<00:05, 6793.00 e\u001b[A\n",
      "Generating unsupervised examples...:  27%|▎| 13706/50000 [00:05<00:05, 6709.56 e\u001b[A\n",
      "Generating unsupervised examples...:  29%|▎| 14383/50000 [00:05<00:05, 6571.48 e\u001b[A\n",
      "Generating unsupervised examples...:  30%|▎| 15045/50000 [00:05<00:05, 6466.61 e\u001b[A\n",
      "Generating unsupervised examples...:  31%|▎| 15706/50000 [00:05<00:05, 6507.38 e\u001b[A\n",
      "Generating unsupervised examples...:  33%|▎| 16380/50000 [00:05<00:05, 6572.52 e\u001b[A\n",
      "Generating unsupervised examples...:  34%|▎| 17048/50000 [00:05<00:04, 6602.33 e\u001b[A\n",
      "Generating unsupervised examples...:  35%|▎| 17739/50000 [00:05<00:04, 6693.30 e\u001b[A\n",
      "Generating unsupervised examples...:  37%|▎| 18425/50000 [00:05<00:04, 6740.80 e\u001b[A\n",
      "Generating unsupervised examples...:  38%|▍| 19100/50000 [00:06<00:04, 6620.66 e\u001b[A\n",
      "Generating unsupervised examples...:  40%|▍| 19805/50000 [00:06<00:04, 6746.85 e\u001b[A\n",
      "Generating unsupervised examples...:  41%|▍| 20497/50000 [00:06<00:04, 6796.84 e\u001b[A\n",
      "Generating unsupervised examples...:  42%|▍| 21192/50000 [00:06<00:04, 6842.04 e\u001b[A\n",
      "Generating unsupervised examples...:  44%|▍| 21877/50000 [00:06<00:04, 6803.12 e\u001b[A\n",
      "Generating unsupervised examples...:  45%|▍| 22569/50000 [00:06<00:04, 6834.27 e\u001b[A\n",
      "Generating unsupervised examples...:  47%|▍| 23253/50000 [00:06<00:03, 6743.30 e\u001b[A\n",
      "Generating unsupervised examples...:  48%|▍| 23943/50000 [00:06<00:03, 6787.32 e\u001b[A\n",
      "Generating unsupervised examples...:  49%|▍| 24623/50000 [00:06<00:03, 6728.18 e\u001b[A\n",
      "Generating unsupervised examples...:  51%|▌| 25297/50000 [00:06<00:03, 6707.30 e\u001b[A\n",
      "Generating unsupervised examples...:  52%|▌| 25972/50000 [00:07<00:03, 6719.88 e\u001b[A\n",
      "Generating unsupervised examples...:  53%|▌| 26654/50000 [00:07<00:03, 6749.28 e\u001b[A\n",
      "Generating unsupervised examples...:  55%|▌| 27338/50000 [00:07<00:03, 6774.08 e\u001b[A\n"
     ]
    },
    {
     "name": "stderr",
     "output_type": "stream",
     "text": [
      "Generating unsupervised examples...:  56%|▌| 28032/50000 [00:07<00:03, 6821.17 e\u001b[A\n",
      "Generating unsupervised examples...:  57%|▌| 28715/50000 [00:07<00:03, 6736.46 e\u001b[A\n",
      "Generating unsupervised examples...:  59%|▌| 29389/50000 [00:07<00:03, 6722.80 e\u001b[A\n",
      "Generating unsupervised examples...:  60%|▌| 30062/50000 [00:07<00:02, 6718.01 e\u001b[A\n",
      "Generating unsupervised examples...:  61%|▌| 30734/50000 [00:07<00:02, 6717.06 e\u001b[A\n",
      "Generating unsupervised examples...:  63%|▋| 31406/50000 [00:07<00:02, 6607.24 e\u001b[A\n",
      "Generating unsupervised examples...:  64%|▋| 32079/50000 [00:07<00:02, 6642.63 e\u001b[A\n",
      "Generating unsupervised examples...:  65%|▋| 32747/50000 [00:08<00:02, 6653.49 e\u001b[A\n",
      "Generating unsupervised examples...:  67%|▋| 33440/50000 [00:08<00:02, 6733.32 e\u001b[A\n",
      "Generating unsupervised examples...:  68%|▋| 34122/50000 [00:08<00:02, 6759.11 e\u001b[A\n",
      "Generating unsupervised examples...:  70%|▋| 34799/50000 [00:08<00:02, 6467.97 e\u001b[A\n",
      "Generating unsupervised examples...:  71%|▋| 35476/50000 [00:08<00:02, 6555.38 e\u001b[A\n",
      "Generating unsupervised examples...:  72%|▋| 36134/50000 [00:08<00:02, 6316.33 e\u001b[A\n",
      "Generating unsupervised examples...:  74%|▋| 36813/50000 [00:08<00:02, 6451.90 e\u001b[A\n",
      "Generating unsupervised examples...:  75%|▋| 37461/50000 [00:08<00:01, 6411.71 e\u001b[A\n",
      "Generating unsupervised examples...:  76%|▊| 38105/50000 [00:08<00:01, 6304.04 e\u001b[A\n",
      "Generating unsupervised examples...:  78%|▊| 38790/50000 [00:09<00:01, 6461.06 e\u001b[A\n",
      "Generating unsupervised examples...:  79%|▊| 39458/50000 [00:09<00:01, 6524.66 e\u001b[A\n",
      "Generating unsupervised examples...:  80%|▊| 40112/50000 [00:09<00:01, 6383.53 e\u001b[A\n",
      "Generating unsupervised examples...:  82%|▊| 40801/50000 [00:09<00:01, 6530.68 e\u001b[A\n",
      "Generating unsupervised examples...:  83%|▊| 41492/50000 [00:09<00:01, 6639.79 e\u001b[A\n",
      "Generating unsupervised examples...:  84%|▊| 42171/50000 [00:09<00:01, 6681.46 e\u001b[A\n",
      "Generating unsupervised examples...:  86%|▊| 42840/50000 [00:09<00:01, 6600.03 e\u001b[A\n",
      "Generating unsupervised examples...:  87%|▊| 43520/50000 [00:09<00:00, 6656.96 e\u001b[A\n",
      "Generating unsupervised examples...:  88%|▉| 44187/50000 [00:09<00:00, 6386.50 e\u001b[A\n",
      "Generating unsupervised examples...:  90%|▉| 44829/50000 [00:09<00:00, 6305.75 e\u001b[A\n",
      "Generating unsupervised examples...:  91%|▉| 45504/50000 [00:10<00:00, 6433.83 e\u001b[A\n",
      "Generating unsupervised examples...:  92%|▉| 46150/50000 [00:10<00:00, 6154.32 e\u001b[A\n",
      "Generating unsupervised examples...:  94%|▉| 46824/50000 [00:10<00:00, 6321.16 e\u001b[A\n",
      "Generating unsupervised examples...:  95%|▉| 47460/50000 [00:10<00:00, 6168.74 e\u001b[A\n",
      "Generating unsupervised examples...:  96%|▉| 48128/50000 [00:10<00:00, 6313.50 e\u001b[A\n",
      "Generating unsupervised examples...:  98%|▉| 48816/50000 [00:10<00:00, 6477.05 e\u001b[A\n",
      "Generating unsupervised examples...:  99%|▉| 49469/50000 [00:10<00:00, 6490.03 e\u001b[A\n",
      "                                                                                \u001b[A\n",
      "Shuffling ~/tensorflow_datasets/imdb_reviews/plain_text/1.0.0.incompleteIQ6RSI/i\u001b[A\n",
      "Shuffling ~/tensorflow_datasets/imdb_reviews/plain_text/1.0.0.incompleteIQ6RSI/i\u001b[A\n",
      "2022-09-29 13:43:07.691996: I tensorflow/core/platform/cpu_feature_guard.cc:193] This TensorFlow binary is optimized with oneAPI Deep Neural Network Library (oneDNN) to use the following CPU instructions in performance-critical operations:  AVX2 AVX512F AVX512_VNNI FMA\n",
      "To enable them in other operations, rebuild TensorFlow with the appropriate compiler flags.\n"
     ]
    },
    {
     "name": "stdout",
     "output_type": "stream",
     "text": [
      "\u001b[1mDataset imdb_reviews downloaded and prepared to ~/tensorflow_datasets/imdb_reviews/plain_text/1.0.0. Subsequent calls will reuse this data.\u001b[0m\n"
     ]
    }
   ],
   "source": [
    "# Split the training set into 60% and 40% to end up with 15,000 examples\n",
    "# for training, 10,000 examples for validation and 25,000 examples for testing.\n",
    "train_data, validation_data, test_data = tfds.load(\n",
    "    name=\"imdb_reviews\", \n",
    "    split=('train[:60%]', 'train[60%:]', 'test'),\n",
    "    as_supervised=True)"
   ]
  },
  {
   "cell_type": "code",
   "execution_count": 14,
   "id": "851f9283",
   "metadata": {},
   "outputs": [
    {
     "name": "stderr",
     "output_type": "stream",
     "text": [
      "2022-09-29 13:44:29.867326: W tensorflow/core/kernels/data/cache_dataset_ops.cc:856] The calling iterator did not fully read the dataset being cached. In order to avoid unexpected truncation of the dataset, the partially cached contents of the dataset  will be discarded. This can happen if you have an input pipeline similar to `dataset.cache().take(k).repeat()`. You should use `dataset.take(k).cache().repeat()` instead.\n"
     ]
    },
    {
     "data": {
      "text/plain": [
       "<tf.Tensor: shape=(10,), dtype=string, numpy=\n",
       "array([b\"This was an absolutely terrible movie. Don't be lured in by Christopher Walken or Michael Ironside. Both are great actors, but this must simply be their worst role in history. Even their great acting could not redeem this movie's ridiculous storyline. This movie is an early nineties US propaganda piece. The most pathetic scenes were those when the Columbian rebels were making their cases for revolutions. Maria Conchita Alonso appeared phony, and her pseudo-love affair with Walken was nothing but a pathetic emotional plug in a movie that was devoid of any real meaning. I am disappointed that there are movies like this, ruining actor's like Christopher Walken's good name. I could barely sit through it.\",\n",
       "       b'I have been known to fall asleep during films, but this is usually due to a combination of things including, really tired, being warm and comfortable on the sette and having just eaten a lot. However on this occasion I fell asleep because the film was rubbish. The plot development was constant. Constantly slow and boring. Things seemed to happen, but with no explanation of what was causing them or why. I admit, I may have missed part of the film, but i watched the majority of it and everything just seemed to happen of its own accord without any real concern for anything else. I cant recommend this film at all.',\n",
       "       b'Mann photographs the Alberta Rocky Mountains in a superb fashion, and Jimmy Stewart and Walter Brennan give enjoyable performances as they always seem to do. <br /><br />But come on Hollywood - a Mountie telling the people of Dawson City, Yukon to elect themselves a marshal (yes a marshal!) and to enforce the law themselves, then gunfighters battling it out on the streets for control of the town? <br /><br />Nothing even remotely resembling that happened on the Canadian side of the border during the Klondike gold rush. Mr. Mann and company appear to have mistaken Dawson City for Deadwood, the Canadian North for the American Wild West.<br /><br />Canadian viewers be prepared for a Reefer Madness type of enjoyable howl with this ludicrous plot, or, to shake your head in disgust.',\n",
       "       b'This is the kind of film for a snowy Sunday afternoon when the rest of the world can go ahead with its own business as you descend into a big arm-chair and mellow for a couple of hours. Wonderful performances from Cher and Nicolas Cage (as always) gently row the plot along. There are no rapids to cross, no dangerous waters, just a warm and witty paddle through New York life at its best. A family film in every sense and one that deserves the praise it received.',\n",
       "       b'As others have mentioned, all the women that go nude in this film are mostly absolutely gorgeous. The plot very ably shows the hypocrisy of the female libido. When men are around they want to be pursued, but when no \"men\" are around, they become the pursuers of a 14 year old boy. And the boy becomes a man really fast (we should all be so lucky at this age!). He then gets up the courage to pursue his true love.',\n",
       "       b\"This is a film which should be seen by anybody interested in, effected by, or suffering from an eating disorder. It is an amazingly accurate and sensitive portrayal of bulimia in a teenage girl, its causes and its symptoms. The girl is played by one of the most brilliant young actresses working in cinema today, Alison Lohman, who was later so spectacular in 'Where the Truth Lies'. I would recommend that this film be shown in all schools, as you will never see a better on this subject. Alison Lohman is absolutely outstanding, and one marvels at her ability to convey the anguish of a girl suffering from this compulsive disorder. If barometers tell us the air pressure, Alison Lohman tells us the emotional pressure with the same degree of accuracy. Her emotional range is so precise, each scene could be measured microscopically for its gradations of trauma, on a scale of rising hysteria and desperation which reaches unbearable intensity. Mare Winningham is the perfect choice to play her mother, and does so with immense sympathy and a range of emotions just as finely tuned as Lohman's. Together, they make a pair of sensitive emotional oscillators vibrating in resonance with one another. This film is really an astonishing achievement, and director Katt Shea should be proud of it. The only reason for not seeing it is if you are not interested in people. But even if you like nature films best, this is after all animal behaviour at the sharp edge. Bulimia is an extreme version of how a tormented soul can destroy her own body in a frenzy of despair. And if we don't sympathise with people suffering from the depths of despair, then we are dead inside.\",\n",
       "       b'Okay, you have:<br /><br />Penelope Keith as Miss Herringbone-Tweed, B.B.E. (Backbone of England.) She\\'s killed off in the first scene - that\\'s right, folks; this show has no backbone!<br /><br />Peter O\\'Toole as Ol\\' Colonel Cricket from The First War and now the emblazered Lord of the Manor.<br /><br />Joanna Lumley as the ensweatered Lady of the Manor, 20 years younger than the colonel and 20 years past her own prime but still glamourous (Brit spelling, not mine) enough to have a toy-boy on the side. It\\'s alright, they have Col. Cricket\\'s full knowledge and consent (they guy even comes \\'round for Christmas!) Still, she\\'s considerate of the colonel enough to have said toy-boy her own age (what a gal!)<br /><br />David McCallum as said toy-boy, equally as pointlessly glamourous as his squeeze. Pilcher couldn\\'t come up with any cover for him within the story, so she gave him a hush-hush job at the Circus.<br /><br />and finally:<br /><br />Susan Hampshire as Miss Polonia Teacups, Venerable Headmistress of the Venerable Girls\\' Boarding-School, serving tea in her office with a dash of deep, poignant advice for life in the outside world just before graduation. Her best bit of advice: \"I\\'ve only been to Nancherrow (the local Stately Home of England) once. I thought it was very beautiful but, somehow, not part of the real world.\" Well, we can\\'t say they didn\\'t warn us.<br /><br />Ah, Susan - time was, your character would have been running the whole show. They don\\'t write \\'em like that any more. Our loss, not yours.<br /><br />So - with a cast and setting like this, you have the re-makings of \"Brideshead Revisited,\" right?<br /><br />Wrong! They took these 1-dimensional supporting roles because they paid so well. After all, acting is one of the oldest temp-jobs there is (YOU name another!)<br /><br />First warning sign: lots and lots of backlighting. They get around it by shooting outdoors - \"hey, it\\'s just the sunlight!\"<br /><br />Second warning sign: Leading Lady cries a lot. When not crying, her eyes are moist. That\\'s the law of romance novels: Leading Lady is \"dewy-eyed.\"<br /><br />Henceforth, Leading Lady shall be known as L.L.<br /><br />Third warning sign: L.L. actually has stars in her eyes when she\\'s in love. Still, I\\'ll give Emily Mortimer an award just for having to act with that spotlight in her eyes (I wonder . did they use contacts?)<br /><br />And lastly, fourth warning sign: no on-screen female character is \"Mrs.\" She\\'s either \"Miss\" or \"Lady.\"<br /><br />When all was said and done, I still couldn\\'t tell you who was pursuing whom and why. I couldn\\'t even tell you what was said and done.<br /><br />To sum up: they all live through World War II without anything happening to them at all.<br /><br />OK, at the end, L.L. finds she\\'s lost her parents to the Japanese prison camps and baby sis comes home catatonic. Meanwhile (there\\'s always a \"meanwhile,\") some young guy L.L. had a crush on (when, I don\\'t know) comes home from some wartime tough spot and is found living on the street by Lady of the Manor (must be some street if SHE\\'s going to find him there.) Both war casualties are whisked away to recover at Nancherrow (SOMEBODY has to be \"whisked away\" SOMEWHERE in these romance stories!)<br /><br />Great drama.',\n",
       "       b'The film is based on a genuine 1950s novel.<br /><br />Journalist Colin McInnes wrote a set of three \"London novels\": \"Absolute Beginners\", \"City of Spades\" and \"Mr Love and Justice\". I have read all three. The first two are excellent. The last, perhaps an experiment that did not come off. But McInnes\\'s work is highly acclaimed; and rightly so. This musical is the novelist\\'s ultimate nightmare - to see the fruits of one\\'s mind being turned into a glitzy, badly-acted, soporific one-dimensional apology of a film that says it captures the spirit of 1950s London, and does nothing of the sort.<br /><br />Thank goodness Colin McInnes wasn\\'t alive to witness it.',\n",
       "       b'I really love the sexy action and sci-fi films of the sixties and its because of the actress\\'s that appeared in them. They found the sexiest women to be in these films and it didn\\'t matter if they could act (Remember \"Candy\"?). The reason I was disappointed by this film was because it wasn\\'t nostalgic enough. The story here has a European sci-fi film called \"Dragonfly\" being made and the director is fired. So the producers decide to let a young aspiring filmmaker (Jeremy Davies) to complete the picture. They\\'re is one real beautiful woman in the film who plays Dragonfly but she\\'s barely in it. Film is written and directed by Roman Coppola who uses some of his fathers exploits from his early days and puts it into the script. I wish the film could have been an homage to those early films. They could have lots of cameos by actors who appeared in them. There is one actor in this film who was popular from the sixties and its John Phillip Law (Barbarella). Gerard Depardieu, Giancarlo Giannini and Dean Stockwell appear as well. I guess I\\'m going to have to continue waiting for a director to make a good homage to the films of the sixties. If any are reading this, \"Make it as sexy as you can\"! I\\'ll be waiting!',\n",
       "       b'Sure, this one isn\\'t really a blockbuster, nor does it target such a position. \"Dieter\" is the first name of a quite popular German musician, who is either loved or hated for his kind of acting and thats exactly what this movie is about. It is based on the autobiography \"Dieter Bohlen\" wrote a few years ago but isn\\'t meant to be accurate on that. The movie is filled with some sexual offensive content (at least for American standard) which is either amusing (not for the other \"actors\" of course) or dumb - it depends on your individual kind of humor or on you being a \"Bohlen\"-Fan or not. Technically speaking there isn\\'t much to criticize. Speaking of me I find this movie to be an OK-movie.'],\n",
       "      dtype=object)>"
      ]
     },
     "execution_count": 14,
     "metadata": {},
     "output_type": "execute_result"
    }
   ],
   "source": [
    "train_examples_batch, train_labels_batch = next(iter(train_data.batch(10)))\n",
    "train_examples_batch"
   ]
  },
  {
   "cell_type": "code",
   "execution_count": 15,
   "id": "0c232031",
   "metadata": {},
   "outputs": [
    {
     "data": {
      "text/plain": [
       "<tf.Tensor: shape=(10,), dtype=int64, numpy=array([0, 0, 0, 1, 1, 1, 0, 0, 0, 0])>"
      ]
     },
     "execution_count": 15,
     "metadata": {},
     "output_type": "execute_result"
    }
   ],
   "source": [
    "train_labels_batch"
   ]
  },
  {
   "cell_type": "code",
   "execution_count": 16,
   "id": "5868f7ea",
   "metadata": {},
   "outputs": [
    {
     "name": "stdout",
     "output_type": "stream",
     "text": [
      "WARNING:tensorflow:Please fix your imports. Module tensorflow.python.training.tracking.data_structures has been moved to tensorflow.python.trackable.data_structures. The old module will be deleted in version 2.11.\n"
     ]
    },
    {
     "name": "stderr",
     "output_type": "stream",
     "text": [
      "WARNING:tensorflow:Please fix your imports. Module tensorflow.python.training.tracking.data_structures has been moved to tensorflow.python.trackable.data_structures. The old module will be deleted in version 2.11.\n"
     ]
    },
    {
     "data": {
      "text/plain": [
       "<tf.Tensor: shape=(3, 50), dtype=float32, numpy=\n",
       "array([[ 0.5423195 , -0.0119017 ,  0.06337538,  0.06862972, -0.16776837,\n",
       "        -0.10581174,  0.16865303, -0.04998824, -0.31148055,  0.07910346,\n",
       "         0.15442263,  0.01488662,  0.03930153,  0.19772711, -0.12215476,\n",
       "        -0.04120981, -0.2704109 , -0.21922152,  0.26517662, -0.80739075,\n",
       "         0.25833532, -0.3100421 ,  0.28683215,  0.1943387 , -0.29036492,\n",
       "         0.03862849, -0.7844411 , -0.0479324 ,  0.4110299 , -0.36388892,\n",
       "        -0.58034706,  0.30269456,  0.3630897 , -0.15227164, -0.44391504,\n",
       "         0.19462997,  0.19528408,  0.05666234,  0.2890704 , -0.28468323,\n",
       "        -0.00531206,  0.0571938 , -0.3201318 , -0.04418665, -0.08550783,\n",
       "        -0.55847436, -0.23336391, -0.20782952, -0.03543064, -0.17533456],\n",
       "       [ 0.56338924, -0.12339553, -0.10862679,  0.7753425 , -0.07667089,\n",
       "        -0.15752277,  0.01872335, -0.08169781, -0.3521876 ,  0.4637341 ,\n",
       "        -0.08492756,  0.07166859, -0.00670817,  0.12686075, -0.19326553,\n",
       "        -0.52626437, -0.3295823 ,  0.14394785,  0.09043556, -0.5417555 ,\n",
       "         0.02468163, -0.15456742,  0.68333143,  0.09068331, -0.45327246,\n",
       "         0.23180096, -0.8615696 ,  0.34480393,  0.12838456, -0.58759046,\n",
       "        -0.4071231 ,  0.23061076,  0.48426893, -0.27128142, -0.5380916 ,\n",
       "         0.47016326,  0.22572741, -0.00830663,  0.2846242 , -0.304985  ,\n",
       "         0.04400365,  0.25025874,  0.14867121,  0.40717036, -0.15422426,\n",
       "        -0.06878027, -0.40825695, -0.3149215 ,  0.09283665, -0.20183425],\n",
       "       [ 0.7456154 ,  0.21256861,  0.14400336,  0.5233862 ,  0.11032254,\n",
       "         0.00902788, -0.3667802 , -0.08938274, -0.24165542,  0.33384594,\n",
       "        -0.11194605, -0.01460047, -0.0071645 ,  0.19562712,  0.00685216,\n",
       "        -0.24886718, -0.42796347,  0.18620004, -0.05241098, -0.66462487,\n",
       "         0.13449019, -0.22205497,  0.08633006,  0.43685386,  0.2972681 ,\n",
       "         0.36140734, -0.7196889 ,  0.05291241, -0.14316116, -0.1573394 ,\n",
       "        -0.15056328, -0.05988009, -0.08178931, -0.15569411, -0.09303783,\n",
       "        -0.18971172,  0.07620788, -0.02541647, -0.27134508, -0.3392682 ,\n",
       "        -0.10296468, -0.27275252, -0.34078008,  0.20083304, -0.26644835,\n",
       "         0.00655449, -0.05141488, -0.04261917, -0.45413622,  0.20023568]],\n",
       "      dtype=float32)>"
      ]
     },
     "execution_count": 16,
     "metadata": {},
     "output_type": "execute_result"
    }
   ],
   "source": [
    "embedding = \"https://tfhub.dev/google/nnlm-en-dim50/2\"\n",
    "hub_layer = hub.KerasLayer(embedding, input_shape=[], \n",
    "                           dtype=tf.string, trainable=True)\n",
    "hub_layer(train_examples_batch[:3])"
   ]
  },
  {
   "cell_type": "code",
   "execution_count": 17,
   "id": "decf5284",
   "metadata": {},
   "outputs": [
    {
     "name": "stdout",
     "output_type": "stream",
     "text": [
      "Model: \"sequential\"\n",
      "_________________________________________________________________\n",
      " Layer (type)                Output Shape              Param #   \n",
      "=================================================================\n",
      " keras_layer (KerasLayer)    (None, 50)                48190600  \n",
      "                                                                 \n",
      " dense (Dense)               (None, 16)                816       \n",
      "                                                                 \n",
      " dense_1 (Dense)             (None, 1)                 17        \n",
      "                                                                 \n",
      "=================================================================\n",
      "Total params: 48,191,433\n",
      "Trainable params: 48,191,433\n",
      "Non-trainable params: 0\n",
      "_________________________________________________________________\n"
     ]
    }
   ],
   "source": [
    "model = tf.keras.Sequential()\n",
    "model.add(hub_layer)\n",
    "model.add(tf.keras.layers.Dense(16, activation='relu'))\n",
    "model.add(tf.keras.layers.Dense(1))\n",
    "\n",
    "model.summary()"
   ]
  },
  {
   "cell_type": "code",
   "execution_count": 18,
   "id": "c2da890e",
   "metadata": {},
   "outputs": [],
   "source": [
    "model.compile(optimizer='adam',\n",
    "              loss=tf.keras.losses.BinaryCrossentropy(from_logits=True),\n",
    "              metrics=['accuracy'])"
   ]
  },
  {
   "cell_type": "code",
   "execution_count": 19,
   "id": "bb7c102f",
   "metadata": {},
   "outputs": [
    {
     "name": "stdout",
     "output_type": "stream",
     "text": [
      "Epoch 1/10\n",
      "30/30 [==============================] - 11s 354ms/step - loss: 0.6805 - accuracy: 0.4983 - val_loss: 0.6432 - val_accuracy: 0.5012\n",
      "Epoch 2/10\n",
      "30/30 [==============================] - 10s 340ms/step - loss: 0.5858 - accuracy: 0.5869 - val_loss: 0.5403 - val_accuracy: 0.6963\n",
      "Epoch 3/10\n",
      "30/30 [==============================] - 11s 350ms/step - loss: 0.4531 - accuracy: 0.7807 - val_loss: 0.4300 - val_accuracy: 0.7955\n",
      "Epoch 4/10\n",
      "30/30 [==============================] - 11s 361ms/step - loss: 0.3270 - accuracy: 0.8682 - val_loss: 0.3609 - val_accuracy: 0.8438\n",
      "Epoch 5/10\n",
      "30/30 [==============================] - 10s 343ms/step - loss: 0.2371 - accuracy: 0.9127 - val_loss: 0.3258 - val_accuracy: 0.8610\n",
      "Epoch 6/10\n",
      "30/30 [==============================] - 10s 343ms/step - loss: 0.1746 - accuracy: 0.9419 - val_loss: 0.3116 - val_accuracy: 0.8687\n",
      "Epoch 7/10\n",
      "30/30 [==============================] - 10s 341ms/step - loss: 0.1262 - accuracy: 0.9620 - val_loss: 0.3081 - val_accuracy: 0.8701\n",
      "Epoch 8/10\n",
      "30/30 [==============================] - 10s 340ms/step - loss: 0.0879 - accuracy: 0.9752 - val_loss: 0.3174 - val_accuracy: 0.8734\n",
      "Epoch 9/10\n",
      "30/30 [==============================] - 10s 347ms/step - loss: 0.0594 - accuracy: 0.9861 - val_loss: 0.3272 - val_accuracy: 0.8719\n",
      "Epoch 10/10\n",
      "30/30 [==============================] - 10s 344ms/step - loss: 0.0408 - accuracy: 0.9927 - val_loss: 0.3447 - val_accuracy: 0.8703\n"
     ]
    }
   ],
   "source": [
    "history = model.fit(train_data.shuffle(10000).batch(512),\n",
    "                    epochs=10,\n",
    "                    validation_data=validation_data.batch(512),\n",
    "                    verbose=1)"
   ]
  },
  {
   "cell_type": "code",
   "execution_count": 20,
   "id": "626bd28b",
   "metadata": {},
   "outputs": [
    {
     "name": "stdout",
     "output_type": "stream",
     "text": [
      "INFO:tensorflow:Assets written to: ram://8aae080b-95e1-41f8-8502-267530d33552/assets\n"
     ]
    },
    {
     "name": "stderr",
     "output_type": "stream",
     "text": [
      "INFO:tensorflow:Assets written to: ram://8aae080b-95e1-41f8-8502-267530d33552/assets\n"
     ]
    }
   ],
   "source": [
    "import pickle\n",
    "with open('text_classification.pickle','wb') as f:\n",
    "    pickle.dump(history,f)"
   ]
  },
  {
   "cell_type": "code",
   "execution_count": 21,
   "id": "4fff690a",
   "metadata": {},
   "outputs": [
    {
     "name": "stdout",
     "output_type": "stream",
     "text": [
      "49/49 - 1s - loss: 0.3705 - accuracy: 0.8544 - 1s/epoch - 25ms/step\n",
      "loss: 0.371\n",
      "accuracy: 0.854\n"
     ]
    }
   ],
   "source": [
    "results = model.evaluate(test_data.batch(512), verbose=2)\n",
    "\n",
    "for name, value in zip(model.metrics_names, results):\n",
    "  print(\"%s: %.3f\" % (name, value))"
   ]
  },
  {
   "cell_type": "code",
   "execution_count": 25,
   "id": "63f584cb",
   "metadata": {},
   "outputs": [
    {
     "ename": "AttributeError",
     "evalue": "'History' object has no attribute 'evaluate'",
     "output_type": "error",
     "traceback": [
      "\u001b[0;31m---------------------------------------------------------------------------\u001b[0m",
      "\u001b[0;31mAttributeError\u001b[0m                            Traceback (most recent call last)",
      "Input \u001b[0;32mIn [25]\u001b[0m, in \u001b[0;36m<cell line: 3>\u001b[0;34m()\u001b[0m\n\u001b[1;32m      1\u001b[0m \u001b[38;5;28;01mwith\u001b[39;00m \u001b[38;5;28mopen\u001b[39m(\u001b[38;5;124m'\u001b[39m\u001b[38;5;124mtext_classification.pickle\u001b[39m\u001b[38;5;124m'\u001b[39m,\u001b[38;5;124m'\u001b[39m\u001b[38;5;124mrb\u001b[39m\u001b[38;5;124m'\u001b[39m) \u001b[38;5;28;01mas\u001b[39;00m f:\n\u001b[1;32m      2\u001b[0m     m1 \u001b[38;5;241m=\u001b[39m pickle\u001b[38;5;241m.\u001b[39mload(f)\n\u001b[0;32m----> 3\u001b[0m \u001b[43mm1\u001b[49m\u001b[38;5;241;43m.\u001b[39;49m\u001b[43mevaluate\u001b[49m(test_data\u001b[38;5;241m.\u001b[39mbatch(\u001b[38;5;241m512\u001b[39m))\n",
      "\u001b[0;31mAttributeError\u001b[0m: 'History' object has no attribute 'evaluate'"
     ]
    }
   ],
   "source": [
    "with open('text_classification.pickle','rb') as f:\n",
    "    m1 = pickle.load(f)\n",
    "m1.evaluate(test_data.batch(512))"
   ]
  },
  {
   "cell_type": "code",
   "execution_count": null,
   "id": "c78079a0",
   "metadata": {},
   "outputs": [],
   "source": []
  }
 ],
 "metadata": {
  "kernelspec": {
   "display_name": "Python 3 (ipykernel)",
   "language": "python",
   "name": "python3"
  },
  "language_info": {
   "codemirror_mode": {
    "name": "ipython",
    "version": 3
   },
   "file_extension": ".py",
   "mimetype": "text/x-python",
   "name": "python",
   "nbconvert_exporter": "python",
   "pygments_lexer": "ipython3",
   "version": "3.8.10"
  }
 },
 "nbformat": 4,
 "nbformat_minor": 5
}
